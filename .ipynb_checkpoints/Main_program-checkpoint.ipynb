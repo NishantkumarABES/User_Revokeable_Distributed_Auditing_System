{
 "cells": [
  {
   "cell_type": "markdown",
   "id": "7a893376",
   "metadata": {},
   "source": [
    "# User Revokeable Distributed Auditing System"
   ]
  },
  {
   "cell_type": "code",
   "execution_count": 9,
   "id": "4684a6cf",
   "metadata": {},
   "outputs": [],
   "source": [
    "# Import required libraries\n",
    "import os, sys, time\n",
    "import hashlib\n",
    "import pickle, shutil\n",
    "import datetime\n",
    "import pandas as pd\n",
    "from cryptography.fernet import Fernet\n",
    "from collections import defaultdict\n",
    "from random import sample, randint"
   ]
  },
  {
   "cell_type": "markdown",
   "id": "16dfce1b",
   "metadata": {},
   "source": [
    "## Important Directory Location"
   ]
  },
  {
   "cell_type": "code",
   "execution_count": 10,
   "id": "b9f1fd0a",
   "metadata": {},
   "outputs": [],
   "source": [
    "data_path = r\"D:\\User Data\\Desktop\\User_Revokeable_Distributed_Auditing_System\\Data Owner\\data\"\n",
    "cloud_path = r\"D:\\User Data\\Desktop\\User_Revokeable_Distributed_Auditing_System\\Cloud Service Provider\"\n",
    "file_record_dir = r\"D:\\User Data\\Desktop\\User_Revokeable_Distributed_Auditing_System\\Cloud Service Provider\\file_records_dir\"\n",
    "failure_reports_dir = r\"D:\\User Data\\Desktop\\User_Revokeable_Distributed_Auditing_System\\Data Owner\\failure_reports\""
   ]
  },
  {
   "cell_type": "markdown",
   "id": "1d1fcebb",
   "metadata": {},
   "source": [
    "## Hashing and Chipher Functions."
   ]
  },
  {
   "cell_type": "code",
   "execution_count": 11,
   "id": "33bf6f21",
   "metadata": {},
   "outputs": [],
   "source": [
    "def generate_key():\n",
    "    return Fernet.generate_key()\n",
    "\n",
    "def encrypt(key, plaintext):\n",
    "    fernet = Fernet(key)\n",
    "    encrypted_text = fernet.encrypt(plaintext.encode())\n",
    "    return encrypted_text.decode()\n",
    "\n",
    "def decrypt(key, encrypted_text):\n",
    "    fernet = Fernet(key)\n",
    "    decrypted_text = fernet.decrypt(encrypted_text.encode())\n",
    "    return decrypted_text.decode()\n",
    "\n",
    "def hash_message(message):\n",
    "    sha256_hash = hashlib.sha256()\n",
    "    sha256_hash.update(message.encode())\n",
    "    return sha256_hash.hexdigest()\n",
    "\n",
    "def verify_hash(message, hash_value):\n",
    "    return hash_message(message) == hash_value"
   ]
  },
  {
   "cell_type": "markdown",
   "id": "1b0bb288",
   "metadata": {},
   "source": [
    "## Sample Data Generator."
   ]
  },
  {
   "cell_type": "code",
   "execution_count": 12,
   "id": "4021de5c",
   "metadata": {},
   "outputs": [],
   "source": [
    "def generate_data(n_files, size):\n",
    "    if not(os.path.exists(data_path)): os.mkdir(data_path)\n",
    "    for file_id in range(0, n_files):\n",
    "        path = data_path+\"\\\\\"+\"file_\"+str(file_id)+\".txt\"\n",
    "        file = open(path, mode=\"w\", encoding='utf-8')\n",
    "        file.write(\"test \"*(size*200))"
   ]
  },
  {
   "cell_type": "markdown",
   "id": "f6b44b3b",
   "metadata": {},
   "source": [
    "## Data Owner Class "
   ]
  },
  {
   "cell_type": "code",
   "execution_count": 13,
   "id": "e342262d",
   "metadata": {},
   "outputs": [],
   "source": [
    "class Data_owner:\n",
    "    def __init__(self, user_id, version):\n",
    "        self.user_id = str(user_id)\n",
    "        self.failure_reports = []\n",
    "        self.encryption_key = None\n",
    "        self.meta_data = defaultdict(list)\n",
    "        self.current_version = version\n",
    "        self.file_count = 1\n",
    "        \n",
    "    def check_data(self, path):\n",
    "        try: get_len = len(os.listdir(path))\n",
    "        except: sys.exit(\"No such directory present\")\n",
    "        if get_len: return True\n",
    "        else: return False\n",
    "\n",
    "    def push_data(self, cloud_path, data_path, folder):\n",
    "        if self.check_data(data_path):\n",
    "            self.encryption_key = generate_key()\n",
    "            dir_path = cloud_path\n",
    "            cloud_path =  cloud_path + \"\\\\\" + folder\n",
    "            if not(os.path.exists(cloud_path)): os.mkdir(cloud_path)\n",
    "            \n",
    "            for file in os.listdir(data_path):\n",
    "                data_file = open(data_path+\"\\\\\"+file, mode=\"r\", encoding='utf-8')\n",
    "                plain_text = data_file.read()\n",
    "                encrypted_text = encrypt(self.encryption_key, plain_text)\n",
    "                cloud_file = open(cloud_path+\"\\\\\"+file, mode=\"w\", encoding='utf-8')\n",
    "                cloud_file.write(encrypted_text)\n",
    "                time_stamp = str(datetime.datetime.now())\n",
    "                file_id = file[:-4]\n",
    "                hash_text = file_id+str(1)+self.user_id+encrypted_text+time_stamp\n",
    "                hash_value = hash_message(hash_text)\n",
    "                self.meta_data[file_id].extend([file_id,str(1),self.user_id,encrypted_text,time_stamp,hash_value])\n",
    "\n",
    "            self.generate_file_records(dir_path)\n",
    "            return self.meta_data\n",
    "            \n",
    "        else: return None\n",
    "\n",
    "    def generate_file_records(self,cloud_path):\n",
    "        files_id = list(self.meta_data.keys())\n",
    "        versions = [self.meta_data[ID][1] for ID in files_id]\n",
    "        users_id = [self.meta_data[ID][2] for ID in files_id]\n",
    "        encry_texts = [self.meta_data[ID][3] for ID in files_id]\n",
    "        time_stamps = [self.meta_data[ID][4] for ID in files_id]\n",
    "        hash_values = [self.meta_data[ID][5] for ID in files_id]\n",
    "        file_record = {\"File_ID\": files_id, \"Version\": versions, \"User ID\": users_id, \"Encrypted Text\": encry_texts,\n",
    "                       \"Time Stamp\": time_stamps, \"Hash Value\": hash_values}\n",
    "        df_file_records = pd.DataFrame(file_record)\n",
    "        rows, cols = df_file_records.shape\n",
    "        df_file_records.to_csv(cloud_path+\"\\\\\"+\"file_records_dir\"+\"\\\\\"+\"file_record_\"+str(rows)+\"_\"+str(self.file_count)+\".csv\")\n",
    "        self.file_count += 1\n",
    "        \n",
    "    def get_failure_reports(self):\n",
    "        pass\n",
    "    \n",
    "    def reverification(self):\n",
    "        pass    \n"
   ]
  },
  {
   "cell_type": "markdown",
   "id": "6ba18110",
   "metadata": {},
   "source": [
    "## Manual Corruption and directory deletion function"
   ]
  },
  {
   "cell_type": "code",
   "execution_count": 14,
   "id": "14d320b4",
   "metadata": {},
   "outputs": [],
   "source": [
    "def delete_generated_data(dir_path):\n",
    "     shutil.rmtree(dir_path)\n",
    "\n",
    "def manual_corruption(per_corruption, n_files, path, file_record_dir):\n",
    "    n_corrupt = (per_corruption*n_files)//100\n",
    "    corrupted_files = sample(range(n_files),n_corrupt)\n",
    "    file_record_path = file_record_dir + \"\\\\\" + \"file_record_\"+str(n_files)+\"_\"+str(1)+\".csv\"\n",
    "    file_record = pd.read_csv(file_record_path)\n",
    "    for file_id in corrupted_files:\n",
    "        file_ID = \"file_\"+str(file_id)\n",
    "        file = open(cloud_path+\"\\\\\"+file_ID+\".txt\", mode=\"a\", encoding='utf-8')\n",
    "        updated_text = \"corrupted_data \"*randint(5,20)\n",
    "        index = file_record[file_record[\"File_ID\"]==file_ID].index[0]\n",
    "        file_record.at[index,\"Encrypted Text\"] = file_record[\"Encrypted Text\"][index] + updated_text\n",
    "        file.write(updated_text)"
   ]
  },
  {
   "cell_type": "code",
   "execution_count": 15,
   "id": "2b33ec1f",
   "metadata": {},
   "outputs": [],
   "source": [
    "def auditing_process(data_path, cloud_path,meta_data):\n",
    "    failure_records = {}\n",
    "    for i,file in enumerate(os.listdir(cloud_path)):\n",
    "        cloud_file_path = cloud_path+\"\\\\\"+file\n",
    "        file_record = meta_data[file[:-4]]\n",
    "        file_text = open(cloud_file_path).read()\n",
    "        hash_text = \"\".join(file_record[0:3])+file_text+file_record[4]\n",
    "        if not(verify_hash(hash_text, file_record[-1])):\n",
    "            failure_records[file[:-4]] = [file[:-4], file_record[1], file_record[4]]\n",
    "    return failure_records\n",
    "\n",
    "def generate_failure_report(failure_records, n_files, per):\n",
    "    report_path = failure_reports_dir +\"\\\\\"+\"n_files_\"+str(n_files)+\"_FR_\"+str(per)+\".csv\"\n",
    "    files_id = list(failure_records.keys())\n",
    "    versions = [failure_records[Id][1] for Id in files_id]\n",
    "    time_stamps = [failure_records[Id][2] for Id in files_id]\n",
    "    report = {\"File_ID\": files_id, \"Version\": versions, \"Time_Stamp\": time_stamps}\n",
    "    pd_report = pd.DataFrame(report)\n",
    "    csv_report = pd_report.to_csv(report_path)\n",
    "    return report_path\n",
    "\n",
    "def reverification(FR_path,file_record):\n",
    "    fialure_records = pd.read_csv(FR_path)\n",
    "    count = 0\n",
    "    for file_id in fialure_records[\"File_ID\"]:\n",
    "        record = file_record[file_id]\n",
    "        file_text = open(cloud_path+\"\\\\\"+file_id+\".txt\").read()\n",
    "        hash_text = \"\".join(record[0:3])+file_text+record[4]\n",
    "        if not(verify_hash(hash_text, file_record[-1])):\n",
    "            count = count + 1\n",
    "    return count "
   ]
  },
  {
   "cell_type": "markdown",
   "id": "36519db6",
   "metadata": {},
   "source": [
    "## Bot User"
   ]
  },
  {
   "cell_type": "code",
   "execution_count": 16,
   "id": "c5ea1c48",
   "metadata": {},
   "outputs": [],
   "source": [
    "data_owner = Data_owner(1,1)\n",
    "generate_data(100,1)\n",
    "data_owner.push_data(cloud_path, data_path, \"first_commit\")\n",
    "\n"
   ]
  },
  {
   "cell_type": "code",
   "execution_count": null,
   "id": "f1b755e8",
   "metadata": {},
   "outputs": [],
   "source": []
  },
  {
   "cell_type": "code",
   "execution_count": null,
   "id": "b0430e0f",
   "metadata": {},
   "outputs": [],
   "source": []
  },
  {
   "cell_type": "code",
   "execution_count": 20,
   "id": "25ea6bf4",
   "metadata": {},
   "outputs": [],
   "source": [
    "generate_data(1,1)\n",
    "encryption_key = generate_key()\n",
    "\n",
    "\n",
    "for file in os.listdir(data_path):\n",
    "    data_file = open(data_path+\"\\\\\"+file, mode=\"r\", encoding='utf-8')\n",
    "    plain_text = data_file.read()\n",
    "    cloud_file = open(cloud_path+\"\\\\\"+file, mode=\"wb\")\n",
    "    \n",
    "    file_id = file[:-4]\n",
    "    version = str(1)\n",
    "    user_id = \"1\"\n",
    "    encrypted_text = encrypt(self.encryption_key, plain_text)\n",
    "    time_stamp = str(datetime.datetime.now())\n",
    "    hash_value = hash_message(hash_text = file_id+version+user_id+encrypted_text+time_stamp)\n",
    "    \n",
    "    file_info = {\"File_ID\": file_id, \"Version\":version, \"User_ID\": user_id, \n",
    "                 \"Encrypted_Text\": encrypted_text, \"Time_Stamp\":time_stamp, \"Hash_Value\": hash_value}\n",
    "    \n",
    "    pickle.dump(file_info, cloud_file)\n"
   ]
  },
  {
   "cell_type": "code",
   "execution_count": null,
   "id": "911d92ed",
   "metadata": {},
   "outputs": [],
   "source": []
  },
  {
   "cell_type": "code",
   "execution_count": null,
   "id": "efe01e0a",
   "metadata": {},
   "outputs": [],
   "source": []
  },
  {
   "cell_type": "code",
   "execution_count": null,
   "id": "04faa982",
   "metadata": {},
   "outputs": [],
   "source": []
  },
  {
   "cell_type": "code",
   "execution_count": null,
   "id": "7d3f9a39",
   "metadata": {},
   "outputs": [],
   "source": []
  },
  {
   "cell_type": "code",
   "execution_count": null,
   "id": "eb619ed8",
   "metadata": {},
   "outputs": [],
   "source": []
  },
  {
   "cell_type": "code",
   "execution_count": null,
   "id": "1a965bfd",
   "metadata": {},
   "outputs": [],
   "source": []
  },
  {
   "cell_type": "code",
   "execution_count": null,
   "id": "cdda2f14",
   "metadata": {},
   "outputs": [],
   "source": []
  },
  {
   "cell_type": "code",
   "execution_count": null,
   "id": "216be3f0",
   "metadata": {},
   "outputs": [],
   "source": []
  },
  {
   "cell_type": "code",
   "execution_count": null,
   "id": "4ed30968",
   "metadata": {},
   "outputs": [],
   "source": []
  },
  {
   "cell_type": "code",
   "execution_count": null,
   "id": "cab0ef4a",
   "metadata": {},
   "outputs": [],
   "source": []
  },
  {
   "cell_type": "code",
   "execution_count": null,
   "id": "cd55df60",
   "metadata": {},
   "outputs": [],
   "source": []
  },
  {
   "cell_type": "code",
   "execution_count": null,
   "id": "ff0b2583",
   "metadata": {},
   "outputs": [],
   "source": []
  },
  {
   "cell_type": "code",
   "execution_count": null,
   "id": "af9dcef5",
   "metadata": {},
   "outputs": [],
   "source": []
  },
  {
   "cell_type": "code",
   "execution_count": null,
   "id": "dfdbc9bc",
   "metadata": {},
   "outputs": [],
   "source": []
  },
  {
   "cell_type": "code",
   "execution_count": null,
   "id": "954275d1",
   "metadata": {},
   "outputs": [],
   "source": []
  },
  {
   "cell_type": "code",
   "execution_count": null,
   "id": "f23fc7f2",
   "metadata": {},
   "outputs": [],
   "source": []
  },
  {
   "cell_type": "code",
   "execution_count": null,
   "id": "4d8a51e5",
   "metadata": {},
   "outputs": [],
   "source": []
  },
  {
   "cell_type": "code",
   "execution_count": null,
   "id": "dabc4dc3",
   "metadata": {},
   "outputs": [],
   "source": []
  },
  {
   "cell_type": "code",
   "execution_count": null,
   "id": "8103d053",
   "metadata": {},
   "outputs": [],
   "source": []
  },
  {
   "cell_type": "code",
   "execution_count": null,
   "id": "326474cd",
   "metadata": {},
   "outputs": [],
   "source": []
  },
  {
   "cell_type": "code",
   "execution_count": null,
   "id": "af13443b",
   "metadata": {},
   "outputs": [],
   "source": []
  },
  {
   "cell_type": "code",
   "execution_count": null,
   "id": "75f2376c",
   "metadata": {},
   "outputs": [],
   "source": []
  },
  {
   "cell_type": "markdown",
   "id": "91958d69",
   "metadata": {},
   "source": [
    "## Types of User"
   ]
  },
  {
   "cell_type": "code",
   "execution_count": null,
   "id": "a958b3ff",
   "metadata": {},
   "outputs": [],
   "source": [
    "\n",
    "class Student:\n",
    "    def __init__(self, user_id):\n",
    "        self.user_id = user_id\n",
    "\n",
    "    def check_permissions(self,file_id):\n",
    "        pass\n",
    "    def read_data(self,file_id):\n",
    "        pass\n",
    "\n",
    "    def write_data(self,file_id):\n",
    "        pass\n",
    "\n",
    "    def request_permission(self, file_id, mode):\n",
    "        pass\n",
    "\n",
    "    def auditing(self):\n",
    "        pass\n",
    "\n",
    "\n",
    "class Staff_member:\n",
    "    def __init__(self, user_id):\n",
    "        self.user_id = user_id\n",
    "\n",
    "    def check_permissions(self,file_id):\n",
    "        pass\n",
    "    def read_data(self,file_id):\n",
    "        pass\n",
    "\n",
    "    def write_data(self,file_id):\n",
    "        pass\n",
    "\n",
    "    def request_permission(self, file_id, mode):\n",
    "        pass\n",
    "\n",
    "    def auditing(self):\n",
    "        pass\n",
    "\n",
    "    \n",
    "class Faculty:\n",
    "    def __init__(self, user_id):\n",
    "        self.user_id = user_id\n",
    "\n",
    "    def check_permissions(self,file_id):\n",
    "        pass\n",
    "    def read_data(self,file_id):\n",
    "        pass\n",
    "\n",
    "    def write_data(self,file_id):\n",
    "        pass\n",
    "\n",
    "    def request_permission(self, file_id, mode):\n",
    "        pass\n",
    "\n",
    "    def auditing(self):\n",
    "        pass"
   ]
  },
  {
   "cell_type": "code",
   "execution_count": null,
   "id": "3b0d2828",
   "metadata": {},
   "outputs": [],
   "source": [
    "from collections import defaultdict\n",
    "\n",
    "class ACL:\n",
    "    def __init__(self):\n",
    "        self.record = defaultdict(defaultdict(list))\n",
    "\n",
    "    def remove_user(self, user_id):\n",
    "        pass\n",
    "\n",
    "    def add_user(self, user_id):\n",
    "        pass\n",
    "\n",
    "    def change_permission(self, user_id, file_id, mode):\n",
    "        pass"
   ]
  }
 ],
 "metadata": {
  "kernelspec": {
   "display_name": "Python 3 (ipykernel)",
   "language": "python",
   "name": "python3"
  },
  "language_info": {
   "codemirror_mode": {
    "name": "ipython",
    "version": 3
   },
   "file_extension": ".py",
   "mimetype": "text/x-python",
   "name": "python",
   "nbconvert_exporter": "python",
   "pygments_lexer": "ipython3",
   "version": "3.8.8"
  }
 },
 "nbformat": 4,
 "nbformat_minor": 5
}
