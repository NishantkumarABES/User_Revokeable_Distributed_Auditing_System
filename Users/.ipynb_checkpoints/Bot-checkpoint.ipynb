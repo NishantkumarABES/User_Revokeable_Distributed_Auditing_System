{
 "cells": [
  {
   "cell_type": "code",
   "execution_count": 6,
   "id": "d5efe33c",
   "metadata": {},
   "outputs": [
    {
     "name": "stderr",
     "output_type": "stream",
     "text": [
      " [elapsed time: 0:00:00] |                                  | (ETA:  --:--:--) "
     ]
    },
    {
     "name": "stdout",
     "output_type": "stream",
     "text": [
      "1\n"
     ]
    },
    {
     "name": "stderr",
     "output_type": "stream",
     "text": [
      " [elapsed time: 0:00:20] |                                  | (ETA:  --:--:--) "
     ]
    },
    {
     "name": "stdout",
     "output_type": "stream",
     "text": [
      "2\n"
     ]
    },
    {
     "name": "stderr",
     "output_type": "stream",
     "text": [
      " [elapsed time: 0:00:41] |********************************* | (ETA:   0:00:00) "
     ]
    }
   ],
   "source": [
    "import time\n",
    "import progressbar\n",
    "\n",
    "widgets = [' [',progressbar.Timer(format= 'elapsed time: %(elapsed)s'),'] ',progressbar.Bar('*'),' (',progressbar.ETA(), ') ',]\n",
    "\n",
    "\n",
    "\n",
    "print(1)\n",
    "for i in range(200):\n",
    "    bar = progressbar.ProgressBar(max_value=200,widgets=widgets).start()\n",
    "    time.sleep(0.1)\n",
    "    bar.update(i)\n",
    "print(2)\n",
    "for i in range(200):\n",
    "    bar = progressbar.ProgressBar(max_value=200,widgets=widgets).start()\n",
    "    time.sleep(0.1)\n",
    "    bar.update(i)"
   ]
  },
  {
   "cell_type": "code",
   "execution_count": null,
   "id": "8a2802e6",
   "metadata": {},
   "outputs": [],
   "source": []
  }
 ],
 "metadata": {
  "kernelspec": {
   "display_name": "Python 3 (ipykernel)",
   "language": "python",
   "name": "python3"
  },
  "language_info": {
   "codemirror_mode": {
    "name": "ipython",
    "version": 3
   },
   "file_extension": ".py",
   "mimetype": "text/x-python",
   "name": "python",
   "nbconvert_exporter": "python",
   "pygments_lexer": "ipython3",
   "version": "3.8.8"
  }
 },
 "nbformat": 4,
 "nbformat_minor": 5
}
