{
 "cells": [
  {
   "cell_type": "code",
   "execution_count": 1,
   "id": "7e3b5b99",
   "metadata": {},
   "outputs": [],
   "source": [
    "import os\n",
    "import time\n",
    "import pickle\n",
    "import pandas as pd\n",
    "from bot_utils import upload_data, manual_corruption, delete_generated_data, hash_message, verify_hash\n",
    "from bot_utils import data_path, cloud_path, failure_reports_dir, data_owner_path\n",
    "file_record_dir = r\"D:\\User Data\\Desktop\\User Revokeable Distributed Auditing\\Cloud Service Provider\\file_records_dir\""
   ]
  },
  {
   "cell_type": "code",
   "execution_count": 2,
   "id": "bc7dfc4a",
   "metadata": {},
   "outputs": [],
   "source": [
    "def auditing_process(data_path, cloud_path,meta_data):\n",
    "    failure_records = {}\n",
    "    for i,file in enumerate(os.listdir(cloud_path)):\n",
    "        cloud_file_path = cloud_path+\"\\\\\"+file\n",
    "        file_record = meta_data[file[:-4]]\n",
    "        file_text = open(cloud_file_path).read()\n",
    "        hash_text = \"\".join(file_record[0:3])+file_text+file_record[4]\n",
    "        if not(verify_hash(hash_text, file_record[-1])):\n",
    "            failure_records[file[:-4]] = [file[:-4], file_record[1], file_record[4]]\n",
    "    return failure_records"
   ]
  },
  {
   "cell_type": "code",
   "execution_count": 3,
   "id": "7653bb3f",
   "metadata": {},
   "outputs": [],
   "source": [
    "def generate_failure_report(failure_records, n_files, per):\n",
    "    report_path = failure_reports_dir +\"\\\\\"+\"n_files_\"+str(n_files)+\"_FR_\"+str(per)+\".csv\"\n",
    "    files_id = list(failure_records.keys())\n",
    "    versions = [failure_records[Id][1] for Id in files_id]\n",
    "    time_stamps = [failure_records[Id][2] for Id in files_id]\n",
    "    report = {\"File_ID\": files_id, \"Version\": versions, \"Time_Stamp\": time_stamps}\n",
    "    pd_report = pd.DataFrame(report)\n",
    "    csv_report = pd_report.to_csv(report_path)\n",
    "    return report_path"
   ]
  },
  {
   "cell_type": "code",
   "execution_count": 4,
   "id": "49fb142f",
   "metadata": {},
   "outputs": [],
   "source": [
    "def reverification(FR_path,file_record):\n",
    "    fialure_records = pd.read_csv(FR_path)\n",
    "    count = 0\n",
    "    for file_id in fialure_records[\"File_ID\"]:\n",
    "        record = file_record[file_id]\n",
    "        file_text = open(cloud_path+\"\\\\\"+file_id+\".txt\").read()\n",
    "        hash_text = \"\".join(record[0:3])+file_text+record[4]\n",
    "        if not(verify_hash(hash_text, file_record[-1])):\n",
    "            count = count + 1\n",
    "    return count\n",
    "        \n",
    "        \n",
    "        "
   ]
  },
  {
   "cell_type": "code",
   "execution_count": null,
   "id": "d6fc7ad5",
   "metadata": {},
   "outputs": [],
   "source": []
  },
  {
   "cell_type": "code",
   "execution_count": 6,
   "id": "473f7232",
   "metadata": {},
   "outputs": [
    {
     "name": "stdout",
     "output_type": "stream",
     "text": [
      "10000 Files are sccessfully uploaded to the cloud.\n",
      "1 % Manual Corruption of file at cloud.\n",
      "Sequencial Auditing Process for 10000 reads\n",
      "\n",
      "\n",
      "100 files are reverified by Data owner\n",
      "0.04914736747741699 Reverification Time.\n"
     ]
    }
   ],
   "source": [
    "no_of_files = [10000,20000,30000,50000,100000]\n",
    "\n",
    "for _ in range(10):\n",
    "    for n_files in no_of_files:\n",
    "        for per in [1,2,3,4,5]:\n",
    "            upload_data(data_owner_path, n_files, 1, \"data\")\n",
    "            print(n_files,\"Files are sccessfully uploaded to the cloud.\")\n",
    "\n",
    "            manual_corruption(per, n_files, cloud_path, file_record_dir)\n",
    "            print(per,\"% Manual Corruption of file at cloud.\")\n",
    "\n",
    "            with open(data_path+\"\\\\\"+\"output.pkl\", \"rb\") as f:\n",
    "                meta_data = pickle.load(f)\n",
    "            delete_generated_data(data_path)\n",
    "\n",
    "            print(\"Sequencial Auditing Process for\",n_files,\"reads\\n\\n\")\n",
    "            failure_records = auditing_process(data_path,cloud_path,meta_data)\n",
    "\n",
    "\n",
    "            FR_path = generate_failure_report(failure_records,n_files,per)\n",
    "\n",
    "            start = time.time()\n",
    "            checked_files = reverification(FR_path,meta_data)\n",
    "            end = time.time()\n",
    "            print(checked_files,\"files are reverified by Data owner\")\n",
    "            print(end-start,\"Reverification Time.\")\n",
    "            delete_generated_data(cloud_path)\n",
    "        break"
   ]
  },
  {
   "cell_type": "code",
   "execution_count": 7,
   "id": "5e4d502f",
   "metadata": {},
   "outputs": [
    {
     "data": {
      "text/html": [
       "<div>\n",
       "<style scoped>\n",
       "    .dataframe tbody tr th:only-of-type {\n",
       "        vertical-align: middle;\n",
       "    }\n",
       "\n",
       "    .dataframe tbody tr th {\n",
       "        vertical-align: top;\n",
       "    }\n",
       "\n",
       "    .dataframe thead th {\n",
       "        text-align: right;\n",
       "    }\n",
       "</style>\n",
       "<table border=\"1\" class=\"dataframe\">\n",
       "  <thead>\n",
       "    <tr style=\"text-align: right;\">\n",
       "      <th></th>\n",
       "      <th>Unnamed: 0</th>\n",
       "      <th>File_ID</th>\n",
       "      <th>Version</th>\n",
       "      <th>Time_Stamp</th>\n",
       "    </tr>\n",
       "  </thead>\n",
       "  <tbody>\n",
       "    <tr>\n",
       "      <th>0</th>\n",
       "      <td>0</td>\n",
       "      <td>file_1079</td>\n",
       "      <td>1</td>\n",
       "      <td>2024-08-05 18:06:19.603958</td>\n",
       "    </tr>\n",
       "    <tr>\n",
       "      <th>1</th>\n",
       "      <td>1</td>\n",
       "      <td>file_118</td>\n",
       "      <td>1</td>\n",
       "      <td>2024-08-05 18:06:20.064236</td>\n",
       "    </tr>\n",
       "    <tr>\n",
       "      <th>2</th>\n",
       "      <td>2</td>\n",
       "      <td>file_1195</td>\n",
       "      <td>1</td>\n",
       "      <td>2024-08-05 18:06:20.117489</td>\n",
       "    </tr>\n",
       "    <tr>\n",
       "      <th>3</th>\n",
       "      <td>3</td>\n",
       "      <td>file_1282</td>\n",
       "      <td>1</td>\n",
       "      <td>2024-08-05 18:06:20.390937</td>\n",
       "    </tr>\n",
       "    <tr>\n",
       "      <th>4</th>\n",
       "      <td>4</td>\n",
       "      <td>file_1372</td>\n",
       "      <td>1</td>\n",
       "      <td>2024-08-05 18:06:20.571026</td>\n",
       "    </tr>\n",
       "  </tbody>\n",
       "</table>\n",
       "</div>"
      ],
      "text/plain": [
       "   Unnamed: 0    File_ID  Version                  Time_Stamp\n",
       "0           0  file_1079        1  2024-08-05 18:06:19.603958\n",
       "1           1   file_118        1  2024-08-05 18:06:20.064236\n",
       "2           2  file_1195        1  2024-08-05 18:06:20.117489\n",
       "3           3  file_1282        1  2024-08-05 18:06:20.390937\n",
       "4           4  file_1372        1  2024-08-05 18:06:20.571026"
      ]
     },
     "execution_count": 7,
     "metadata": {},
     "output_type": "execute_result"
    }
   ],
   "source": [
    "df_failure_report = pd.read_csv(FR_path)\n",
    "df_failure_report.head()"
   ]
  },
  {
   "cell_type": "code",
   "execution_count": 8,
   "id": "a8180d17",
   "metadata": {},
   "outputs": [
    {
     "name": "stderr",
     "output_type": "stream",
     "text": [
      "IOPub data rate exceeded.\n",
      "The notebook server will temporarily stop sending output\n",
      "to the client in order to avoid crashing it.\n",
      "To change this limit, set the config variable\n",
      "`--NotebookApp.iopub_data_rate_limit`.\n",
      "\n",
      "Current values:\n",
      "NotebookApp.iopub_data_rate_limit=1000000.0 (bytes/sec)\n",
      "NotebookApp.rate_limit_window=3.0 (secs)\n",
      "\n"
     ]
    }
   ],
   "source": []
  },
  {
   "cell_type": "code",
   "execution_count": null,
   "id": "f9e89afc",
   "metadata": {},
   "outputs": [],
   "source": []
  },
  {
   "cell_type": "code",
   "execution_count": null,
   "id": "ba9da365",
   "metadata": {},
   "outputs": [],
   "source": []
  },
  {
   "cell_type": "code",
   "execution_count": null,
   "id": "73da5834",
   "metadata": {},
   "outputs": [],
   "source": []
  },
  {
   "cell_type": "code",
   "execution_count": null,
   "id": "f7130cfc",
   "metadata": {},
   "outputs": [],
   "source": []
  }
 ],
 "metadata": {
  "kernelspec": {
   "display_name": "Python 3 (ipykernel)",
   "language": "python",
   "name": "python3"
  },
  "language_info": {
   "codemirror_mode": {
    "name": "ipython",
    "version": 3
   },
   "file_extension": ".py",
   "mimetype": "text/x-python",
   "name": "python",
   "nbconvert_exporter": "python",
   "pygments_lexer": "ipython3",
   "version": "3.8.8"
  }
 },
 "nbformat": 4,
 "nbformat_minor": 5
}
