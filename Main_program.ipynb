{
 "cells": [
  {
   "cell_type": "markdown",
   "id": "7a893376",
   "metadata": {},
   "source": [
    "# User Revokeable Distributed Auditing System"
   ]
  },
  {
   "cell_type": "code",
   "execution_count": 1,
   "id": "4684a6cf",
   "metadata": {},
   "outputs": [],
   "source": [
    "# Import required libraries\n",
    "import os, sys, time\n",
    "import hashlib\n",
    "import socket, string\n",
    "import pickle, shutil\n",
    "import datetime\n",
    "import pandas as pd\n",
    "import matplotlib.pyplot as plt\n",
    "from cryptography.fernet import Fernet\n",
    "from collections import defaultdict\n",
    "from random import sample, randint, choice"
   ]
  },
  {
   "cell_type": "markdown",
   "id": "16dfce1b",
   "metadata": {},
   "source": [
    "## Important Directory Location"
   ]
  },
  {
   "cell_type": "code",
   "execution_count": 2,
   "id": "b9f1fd0a",
   "metadata": {},
   "outputs": [],
   "source": [
    "data_path = r\"D:\\User Data\\Desktop\\User_Revokeable_Distributed_Auditing_System\\Data Owner\\data\"\n",
    "cloud_path = r\"D:\\User Data\\Desktop\\User_Revokeable_Distributed_Auditing_System\\Cloud Service Provider\"\n",
    "failure_reports_dir = r\"D:\\User Data\\Desktop\\User_Revokeable_Distributed_Auditing_System\\Data Owner\\failure_reports\"\n",
    "data_owner_ACL_path = r\"D:\\User Data\\Desktop\\User_Revokeable_Distributed_Auditing_System\\Data Owner\\DO_ACL.txt\"\n",
    "CSP_ACL_path =  r\"D:\\User Data\\Desktop\\User_Revokeable_Distributed_Auditing_System\\Cloud Service Provider\\CSP_ACL.txt\""
   ]
  },
  {
   "cell_type": "markdown",
   "id": "1d1fcebb",
   "metadata": {},
   "source": [
    "## Hashing and Chipher Functions."
   ]
  },
  {
   "cell_type": "code",
   "execution_count": 3,
   "id": "33bf6f21",
   "metadata": {},
   "outputs": [],
   "source": [
    "def generate_key():\n",
    "    return Fernet.generate_key()\n",
    "\n",
    "def encrypt(key, plaintext):\n",
    "    fernet = Fernet(key)\n",
    "    encrypted_text = fernet.encrypt(plaintext.encode())\n",
    "    return encrypted_text.decode()\n",
    "\n",
    "def decrypt(key, encrypted_text):\n",
    "    fernet = Fernet(key)\n",
    "    decrypted_text = fernet.decrypt(encrypted_text.encode())\n",
    "    return decrypted_text.decode()\n",
    "\n",
    "def hash_message(message):\n",
    "    sha256_hash = hashlib.sha256()\n",
    "    sha256_hash.update(message.encode())\n",
    "    return sha256_hash.hexdigest()\n",
    "\n",
    "def verify_hash(message, hash_value):\n",
    "    return hash_message(message) == hash_value"
   ]
  },
  {
   "cell_type": "markdown",
   "id": "1b0bb288",
   "metadata": {},
   "source": [
    "## Sample Data Generator."
   ]
  },
  {
   "cell_type": "code",
   "execution_count": 4,
   "id": "4021de5c",
   "metadata": {},
   "outputs": [],
   "source": [
    "def generate_data(n_files, size):\n",
    "    if not(os.path.exists(data_path)): os.mkdir(data_path)\n",
    "    for file_id in range(0, n_files):\n",
    "        path = data_path+\"\\\\\"+\"file_\"+str(file_id)+\".txt\"\n",
    "        file = open(path, mode=\"w\", encoding='utf-8')\n",
    "        file.write(\"test \"*(size*200))"
   ]
  },
  {
   "cell_type": "markdown",
   "id": "f6b44b3b",
   "metadata": {},
   "source": [
    "## Data Owner Class "
   ]
  },
  {
   "cell_type": "code",
   "execution_count": 5,
   "id": "e342262d",
   "metadata": {},
   "outputs": [],
   "source": [
    "class Data_owner:\n",
    "    def __init__(self, user_id, version):\n",
    "        self.user_id = str(user_id)\n",
    "        self.encryption_key = None\n",
    "        self.current_version = version\n",
    "        \n",
    "    def check_data(self, path):\n",
    "        try: get_len = len(os.listdir(path))\n",
    "        except: sys.exit(\"No such directory present\")\n",
    "        if get_len: return True\n",
    "        else: return False\n",
    "\n",
    "    def push_data(self, cloud_path, data_path, folder):\n",
    "        if self.check_data(data_path):\n",
    "            self.encryption_key = generate_key()\n",
    "            cloud_path =  cloud_path + \"\\\\\" + folder\n",
    "            if not(os.path.exists(cloud_path)): os.mkdir(cloud_path)\n",
    "            for file in os.listdir(data_path):\n",
    "                data_file = open(data_path+\"\\\\\"+file, mode=\"r\", encoding='utf-8')\n",
    "                plain_text = data_file.read()\n",
    "\n",
    "                file_id = file[:-4]\n",
    "                version = str(self.current_version)\n",
    "                user_id = self.user_id\n",
    "                encrypted_text = encrypt(self.encryption_key, plain_text)\n",
    "                time_stamp = str(datetime.datetime.now())\n",
    "                hash_value = hash_message(message = file_id+version+user_id+encrypted_text+time_stamp)\n",
    "\n",
    "                file_info = {\"File_ID\": file_id, \"Version\":version, \"User_ID\": user_id, \n",
    "                             \"Encrypted_Text\": encrypted_text, \"Time_Stamp\":time_stamp, \"Hash_Value\": hash_value}\n",
    "\n",
    "                with open(cloud_path+\"\\\\\"+file, \"wb\") as cloud_file:\n",
    "                    pickle.dump(file_info, cloud_file)\n",
    "                    \n",
    "            return True\n",
    "        else: return False\n",
    "\n",
    "\n",
    "    def get_failure_reports(self,FR_path):\n",
    "        return pd.read_csv(FR_path)\n",
    "    \n",
    "    def reverification(self, FR_path, cloud_dir_path):\n",
    "        count = 0\n",
    "        fialure_records = self.get_failure_reports(FR_path)\n",
    "        for file_id in fialure_records[\"File_ID\"]:\n",
    "            cloud_file_path = cloud_dir_path+\"\\\\\"+file_id+\".txt\"\n",
    "            file_data = pickle.load(open(cloud_file_path,\"rb\"))\n",
    "            hash_text = \"\".join([file_data[key] for key in file_data.keys() if key!=\"Hash_Value\"])\n",
    "            if not(verify_hash(hash_text, file_data[\"Hash_Value\"])):\n",
    "                count = count + 1\n",
    "        return count     \n"
   ]
  },
  {
   "cell_type": "markdown",
   "id": "6ba18110",
   "metadata": {},
   "source": [
    "## Manual Corruption and directory deletion function"
   ]
  },
  {
   "cell_type": "code",
   "execution_count": 6,
   "id": "14d320b4",
   "metadata": {},
   "outputs": [],
   "source": [
    "def delete_generated_data(dir_path):\n",
    "     shutil.rmtree(dir_path)\n",
    "\n",
    "def manual_corruption(per_corruption, n_files, cloud_path):\n",
    "    n_corrupt = (per_corruption*n_files)//100\n",
    "    corrupted_files = sample(range(n_files),n_corrupt)\n",
    "    \n",
    "    for file_id in corrupted_files:\n",
    "        file_name = \"file_\"+str(file_id)+\".txt\"\n",
    "        file = open(cloud_path+\"\\\\\"+file_name, \"rb\")\n",
    "        file_data = pickle.load(file)\n",
    "        updated_text = \"corrupted_data \"*randint(5,20)\n",
    "        file_data[\"Encrypted_Text\"] += updated_text\n",
    "        with open(cloud_path+\"\\\\\"+file_name, \"wb\") as cloud_file:\n",
    "            pickle.dump(file_data, cloud_file)\n",
    "    \n",
    "    return corrupted_files"
   ]
  },
  {
   "cell_type": "markdown",
   "id": "0764311f",
   "metadata": {},
   "source": [
    "## Auditing and Failure report Funtion"
   ]
  },
  {
   "cell_type": "code",
   "execution_count": 7,
   "id": "2b33ec1f",
   "metadata": {},
   "outputs": [],
   "source": [
    "def auditing_process(cloud_path,name):\n",
    "    failure_records = {}\n",
    "    for i,file in enumerate(os.listdir(cloud_path+\"\\\\\"+name)):\n",
    "        cloud_file_path = cloud_path+\"\\\\\"+name+\"\\\\\"+file\n",
    "        \n",
    "        file_data = pickle.load(open(cloud_file_path,\"rb\"))\n",
    "        hash_text = \"\".join([file_data[key] for key in file_data.keys() if key!=\"Hash_Value\"])\n",
    "        \n",
    "        if not(verify_hash(hash_text, file_data[\"Hash_Value\"])):\n",
    "            failure_records[file[:-4]] = [file_data[\"File_ID\"], file_data[\"Version\"], file_data[\"Time_Stamp\"]]\n",
    "    return failure_records\n",
    "\n",
    "def generate_failure_report(failure_records, n_files, per):\n",
    "    report_path = failure_reports_dir +\"\\\\\"+\"n_files_\"+str(n_files)+\"_FR_\"+str(per)+\".csv\"\n",
    "    files_id = list(failure_records.keys())\n",
    "    versions = [failure_records[Id][1] for Id in files_id]\n",
    "    time_stamps = [failure_records[Id][2] for Id in files_id]\n",
    "    report = {\"File_ID\": files_id, \"Version\": versions, \"Time_Stamp\": time_stamps}\n",
    "    pd_report = pd.DataFrame(report)\n",
    "    csv_report = pd_report.to_csv(report_path)\n",
    "    return report_path"
   ]
  },
  {
   "cell_type": "markdown",
   "id": "36519db6",
   "metadata": {},
   "source": [
    "## Bot User"
   ]
  },
  {
   "cell_type": "code",
   "execution_count": null,
   "id": "8c25a716",
   "metadata": {},
   "outputs": [],
   "source": [
    "file_size = 1\n",
    "results = defaultdict(list)\n",
    "for n_files in [1000,2000,4000,6000,10000]:\n",
    "    for per in [1, 2, 3, 4, 5]:\n",
    "        n_reverification = []\n",
    "        for _ in range(20):\n",
    "             # Step 1 \n",
    "            data_owner = Data_owner(user_id = 1, version = 1)\n",
    "            generate_data(n_files,1)\n",
    "            data_owner.push_data(cloud_path, data_path, \"first_commit\")\n",
    "            delete_generated_data(data_path)\n",
    "            \n",
    "            # Step 2\n",
    "            manual_corruption(per,n_files,cloud_path+\"\\\\\"+\"first_commit\")\n",
    "            \n",
    "            reverification_time = 0\n",
    "            for _ in range(10):\n",
    "                # Step 3  \n",
    "                failure_records = auditing_process(cloud_path,\"first_commit\")\n",
    "                report_path = generate_failure_report(failure_records, n_files, per)\n",
    "\n",
    "                # Step 4\n",
    "                start = time.time()\n",
    "                data_owner.reverification(report_path, cloud_path+\"\\\\\"+\"first_commit\")\n",
    "                end = time.time()\n",
    "                reverification_time += (end-start)\n",
    "                os.remove(report_path)\n",
    "            n_reverification.appned(reverification_time)\n",
    "            delete_generated_data(cloud_path+\"\\\\\"+\"first_commit\")\n",
    "        avg_reverification = sum(n_reverification)/20\n",
    "        results[n_files*10].append(avg_reverification)\n",
    "            \n",
    "            \n",
    "            "
   ]
  },
  {
   "cell_type": "code",
   "execution_count": 13,
   "id": "c5ea1c48",
   "metadata": {},
   "outputs": [
    {
     "name": "stdout",
     "output_type": "stream",
     "text": [
      "0.2324235439300537 1000 1\n",
      "0.08568549156188965 1000 2\n",
      "0.10116076469421387 1000 3\n",
      "0.1279006004333496 1000 4\n",
      "0.13832902908325195 1000 5\n",
      "0.08583188056945801 2000 1\n",
      "0.1320502758026123 2000 2\n",
      "0.16607332229614258 2000 3\n",
      "0.23915338516235352 2000 4\n",
      "0.21320343017578125 2000 5\n",
      "0.11321377754211426 3000 1\n",
      "0.14380383491516113 3000 2\n",
      "0.23801589012145996 3000 3\n",
      "0.26027631759643555 3000 4\n",
      "0.33853697776794434 3000 5\n",
      "0.14427471160888672 5000 1\n",
      "0.23305511474609375 5000 2\n",
      "0.3172917366027832 5000 3\n",
      "0.4725606441497803 5000 4\n",
      "0.5247054100036621 5000 5\n",
      "0.23894023895263672 10000 1\n",
      "0.40516185760498047 10000 2\n",
      "0.686051607131958 10000 3\n",
      "0.789910078048706 10000 4\n",
      "0.9676785469055176 10000 5\n"
     ]
    }
   ],
   "source": [
    "results = defaultdict(list)\n",
    "for n_files in [1000,2000,3000,5000,10000]:\n",
    "    for per in [1, 2, 3, 4, 5]:\n",
    "        # Step 1 \n",
    "        data_owner = Data_owner(user_id = 1, version = 1)\n",
    "        generate_data(n_files,1)\n",
    "        data_owner.push_data(cloud_path, data_path, \"first_commit\")\n",
    "        delete_generated_data(data_path)\n",
    "\n",
    "        # Step 2\n",
    "        manual_corruption(per,n_files,cloud_path+\"\\\\\"+\"first_commit\")\n",
    "        \n",
    "        reverification_time = 0\n",
    "        for _ in range(10):\n",
    "            # Step 3  \n",
    "            failure_records = auditing_process(cloud_path,\"first_commit\")\n",
    "            report_path = generate_failure_report(failure_records,n_files,per)\n",
    "\n",
    "            # Step 4\n",
    "            start = time.time()\n",
    "            data_owner.reverification(report_path, cloud_path+\"\\\\\"+\"first_commit\")\n",
    "            end = time.time()\n",
    "            reverification_time += (end-start)\n",
    "            os.remove(report_path)\n",
    "            \n",
    "        delete_generated_data(cloud_path+\"\\\\\"+\"first_commit\")\n",
    "        results[n_files].append(reverification_time)"
   ]
  },
  {
   "cell_type": "code",
   "execution_count": 25,
   "id": "f1b755e8",
   "metadata": {},
   "outputs": [
    {
     "data": {
      "text/html": [
       "<div>\n",
       "<style scoped>\n",
       "    .dataframe tbody tr th:only-of-type {\n",
       "        vertical-align: middle;\n",
       "    }\n",
       "\n",
       "    .dataframe tbody tr th {\n",
       "        vertical-align: top;\n",
       "    }\n",
       "\n",
       "    .dataframe thead th {\n",
       "        text-align: right;\n",
       "    }\n",
       "</style>\n",
       "<table border=\"1\" class=\"dataframe\">\n",
       "  <thead>\n",
       "    <tr style=\"text-align: right;\">\n",
       "      <th></th>\n",
       "      <th>10000</th>\n",
       "      <th>20000</th>\n",
       "      <th>30000</th>\n",
       "      <th>50000</th>\n",
       "      <th>100000</th>\n",
       "    </tr>\n",
       "  </thead>\n",
       "  <tbody>\n",
       "    <tr>\n",
       "      <th>1</th>\n",
       "      <td>0.232424</td>\n",
       "      <td>0.085832</td>\n",
       "      <td>0.113214</td>\n",
       "      <td>0.144275</td>\n",
       "      <td>0.238940</td>\n",
       "    </tr>\n",
       "    <tr>\n",
       "      <th>2</th>\n",
       "      <td>0.085685</td>\n",
       "      <td>0.132050</td>\n",
       "      <td>0.143804</td>\n",
       "      <td>0.233055</td>\n",
       "      <td>0.405162</td>\n",
       "    </tr>\n",
       "    <tr>\n",
       "      <th>3</th>\n",
       "      <td>0.101161</td>\n",
       "      <td>0.166073</td>\n",
       "      <td>0.238016</td>\n",
       "      <td>0.317292</td>\n",
       "      <td>0.686052</td>\n",
       "    </tr>\n",
       "    <tr>\n",
       "      <th>4</th>\n",
       "      <td>0.127901</td>\n",
       "      <td>0.239153</td>\n",
       "      <td>0.260276</td>\n",
       "      <td>0.472561</td>\n",
       "      <td>0.789910</td>\n",
       "    </tr>\n",
       "    <tr>\n",
       "      <th>5</th>\n",
       "      <td>0.138329</td>\n",
       "      <td>0.213203</td>\n",
       "      <td>0.338537</td>\n",
       "      <td>0.524705</td>\n",
       "      <td>0.967679</td>\n",
       "    </tr>\n",
       "  </tbody>\n",
       "</table>\n",
       "</div>"
      ],
      "text/plain": [
       "     10000     20000     30000     50000     100000\n",
       "1  0.232424  0.085832  0.113214  0.144275  0.238940\n",
       "2  0.085685  0.132050  0.143804  0.233055  0.405162\n",
       "3  0.101161  0.166073  0.238016  0.317292  0.686052\n",
       "4  0.127901  0.239153  0.260276  0.472561  0.789910\n",
       "5  0.138329  0.213203  0.338537  0.524705  0.967679"
      ]
     },
     "execution_count": 25,
     "metadata": {},
     "output_type": "execute_result"
    }
   ],
   "source": [
    "# result_info = {key*10:value for key,value in results.items()}\n",
    "# result_data = pd.DataFrame(result_info,index = [1,2,3,4,5])\n",
    "# result_data.to_csv(\"Auditing_process_data.csv\")\n",
    "# result_data.head()"
   ]
  },
  {
   "cell_type": "code",
   "execution_count": 26,
   "id": "b0430e0f",
   "metadata": {},
   "outputs": [
    {
     "data": {
      "image/png": "[encoded data removed]",
      "text/plain": [
       "<Figure size 640x480 with 1 Axes>"
      ]
     },
     "metadata": {},
     "output_type": "display_data"
    }
   ],
   "source": [
    "# import matplotlib.pyplot as plt\n",
    "# result_data.plot()\n",
    "# plt.grid()"
   ]
  },
  {
   "cell_type": "code",
   "execution_count": 30,
   "id": "25ea6bf4",
   "metadata": {},
   "outputs": [],
   "source": []
  },
  {
   "cell_type": "code",
   "execution_count": null,
   "id": "315907b2",
   "metadata": {},
   "outputs": [],
   "source": []
  },
  {
   "cell_type": "markdown",
   "id": "97f70077",
   "metadata": {},
   "source": [
    "# Scoket Programming"
   ]
  },
  {
   "cell_type": "code",
   "execution_count": null,
   "id": "592d378a",
   "metadata": {},
   "outputs": [],
   "source": [
    "# # client\n",
    "# client_object = socket.socket(family=socket.AF_INET, type=socket.SOCK_STREAM)\n",
    "# ip_address =  socket.gethostbyname(socket.gethostname())\n",
    "# port = 5555\n",
    "# client_object.connect((ip_address,port))\n",
    "# data_receive = client_object.recv(1024)\n",
    "\n",
    "# if data_receive:\n",
    "#     print(\"CLIENT CONNECTED TO SERVER\")\n",
    "#     print(data_receive.decode('utf-8'))\n",
    "#     while data_receive:\n",
    "#         client_input = input().encode('utf-8')\n",
    "#         client_object.send(client_input)\n",
    "#         data_receive = client_object.recv(1024)\n",
    "#         if data_receive:\n",
    "#             print(\"{}: {}\".format(\"SERVER\",data_receive.decode('utf-8')))\n"
   ]
  },
  {
   "cell_type": "code",
   "execution_count": null,
   "id": "8f9d7d97",
   "metadata": {},
   "outputs": [],
   "source": [
    "# # server\n",
    "# server_object = socket.socket(family=socket.AF_INET, type=socket.SOCK_STREAM)\n",
    "# ip_address = socket.gethostbyname(socket.gethostname())\n",
    "# port = 5555\n",
    "# server_object.bind((ip_address, port))\n",
    "# server_object.listen()\n",
    "# connection_object, _ = server_object.accept()\n",
    "\n",
    "# if connection_object:\n",
    "#     print(\"SERVER CONNECTED TO CLIENT\")\n",
    "#     connection_object.send(b\"type the message\")\n",
    "#     data_receive = connection_object.recv(1024)\n",
    "#     while data_receive != b'stop':\n",
    "#         print(\"{}: {}\".format(\"CLIENT MESSAGE: \", data_receive.decode('utf-8')))\n",
    "#         server_input = random.choice(string.ascii_letters)\n",
    "#         connection_object.send(server_input.encode('utf-8'))\n",
    "#         data_receive = connection_object.recv(1024)\n"
   ]
  },
  {
   "cell_type": "code",
   "execution_count": null,
   "id": "7feb67e6",
   "metadata": {},
   "outputs": [],
   "source": []
  },
  {
   "cell_type": "code",
   "execution_count": null,
   "id": "bb8b2e30",
   "metadata": {},
   "outputs": [],
   "source": []
  },
  {
   "cell_type": "code",
   "execution_count": null,
   "id": "dcf350eb",
   "metadata": {},
   "outputs": [],
   "source": []
  },
  {
   "cell_type": "markdown",
   "id": "91958d69",
   "metadata": {},
   "source": [
    "## Types of User"
   ]
  },
  {
   "cell_type": "code",
   "execution_count": 9,
   "id": "a958b3ff",
   "metadata": {},
   "outputs": [],
   "source": [
    "\n",
    "class Student:\n",
    "    def __init__(self, user_id):\n",
    "        self.user_id = user_id\n",
    "\n",
    "    def check_permissions(self,file_id):\n",
    "        pass\n",
    "    def read_data(self,file_id):\n",
    "        pass\n",
    "\n",
    "    def write_data(self,file_id):\n",
    "        pass\n",
    "\n",
    "    def request_permission(self, file_id, mode):\n",
    "        pass\n",
    "\n",
    "    def auditing(self):\n",
    "        pass\n",
    "\n",
    "\n",
    "class Staff_member:\n",
    "    def __init__(self, user_id):\n",
    "        self.user_id = user_id\n",
    "\n",
    "    def check_permissions(self,file_id):\n",
    "        pass\n",
    "    def read_data(self,file_id):\n",
    "        pass\n",
    "\n",
    "    def write_data(self,file_id):\n",
    "        pass\n",
    "\n",
    "    def request_permission(self, file_id, mode):\n",
    "        pass\n",
    "\n",
    "    def auditing(self):\n",
    "        pass\n",
    "\n",
    "    \n",
    "class Faculty:\n",
    "    def __init__(self, user_id):\n",
    "        self.user_id = user_id\n",
    "\n",
    "    def check_permissions(self,file_id):\n",
    "        pass\n",
    "    def read_data(self,file_id):\n",
    "        pass\n",
    "\n",
    "    def write_data(self,file_id):\n",
    "        pass\n",
    "\n",
    "    def request_permission(self, file_id, mode):\n",
    "        pass\n",
    "\n",
    "    def auditing(self):\n",
    "        pass"
   ]
  },
  {
   "cell_type": "code",
   "execution_count": null,
   "id": "5cdd723e",
   "metadata": {},
   "outputs": [],
   "source": []
  },
  {
   "cell_type": "code",
   "execution_count": null,
   "id": "f10b8c32",
   "metadata": {},
   "outputs": [],
   "source": []
  },
  {
   "cell_type": "code",
   "execution_count": 11,
   "id": "84f930fb",
   "metadata": {},
   "outputs": [],
   "source": []
  },
  {
   "cell_type": "markdown",
   "id": "8ca1c937",
   "metadata": {},
   "source": [
    "## Access Control List "
   ]
  },
  {
   "cell_type": "code",
   "execution_count": 4,
   "id": "3b0d2828",
   "metadata": {},
   "outputs": [],
   "source": [
    "class user_node:\n",
    "    def __init__(self,file_id, mode, Next=None):\n",
    "        self.file_id = file_id\n",
    "        self.mode = mode\n",
    "        self.next = Next\n",
    "        \n",
    "class ACL:\n",
    "    def __init__(self, version, time_stamp):\n",
    "        self.record = {}\n",
    "        self.version = version\n",
    "        self.time_stamp = time_stamp\n",
    "\n",
    "    def remove_user(self, user_id):\n",
    "        self.record[user_id] = None\n",
    "\n",
    "    def add_user(self, user_id):\n",
    "        if user_id in self.record: return False\n",
    "        self.record[user_id] = None\n",
    "        return True\n",
    "    \n",
    "    def traverse(self, user_id):\n",
    "        head = self.record[user_id]\n",
    "        if not(head): return\n",
    "        while head.next!=None:\n",
    "            print(head.file_id,end=\" --> \")\n",
    "            head = head.next\n",
    "        print(head.file_id)\n",
    "        \n",
    "    def add_node(self, user_id, file_id, mode):\n",
    "        if not(user_id in self.record): return False\n",
    "        new_node = user_node(file_id, mode)\n",
    "        head = self.record[user_id]\n",
    "        new_node.next = head\n",
    "        self.record[user_id] = new_node\n",
    "        return True"
   ]
  },
  {
   "cell_type": "markdown",
   "id": "958f8e12",
   "metadata": {},
   "source": [
    "## Generate Access Control list"
   ]
  },
  {
   "cell_type": "code",
   "execution_count": 5,
   "id": "c839bf72",
   "metadata": {},
   "outputs": [],
   "source": [
    "\n",
    "def generate_ACL(n_user):\n",
    "    time_stamp = str(datetime.datetime.now())\n",
    "    sample_ACL = ACL(version = 1, time_stamp=time_stamp)\n",
    "    for i in range(n_user):\n",
    "        user_id = \"user\"+str(i+1)\n",
    "        sample_ACL.add_user(user_id)\n",
    "        n_node = randint(5,20)\n",
    "        for j in range(n_node):\n",
    "            file_id = \"file_\"+str(randint(0,100))\n",
    "            mode = choice([\"W\",\"R\"])\n",
    "            sample_ACL.add_node(user_id, file_id, mode)\n",
    "            \n",
    "    return sample_ACL\n",
    "\n",
    "def provide_ACL(n_user):\n",
    "    sample_ACL = generate_ACL(n_users)\n",
    "    ACL_data = {\"Version\": sample_ACL.version, \"Time_stamp\": sample_ACL.time_stamp, \"ACL\": sample_ACL.record } \n",
    "\n",
    "    with open(data_owner_ACL_path, \"wb\") as DO_ACL:\n",
    "        pickle.dump(ACL_data, DO_ACL)\n",
    "\n",
    "    with open(CSP_ACL_path, \"wb\") as CSP_ACL:\n",
    "        pickle.dump(ACL_data, CSP_ACL)\n",
    "        \n",
    "\n"
   ]
  },
  {
   "cell_type": "markdown",
   "id": "bf4fe04a",
   "metadata": {},
   "source": [
    "## Simulating User Revocation process"
   ]
  },
  {
   "cell_type": "code",
   "execution_count": 6,
   "id": "55db5e81",
   "metadata": {},
   "outputs": [],
   "source": [
    "results = defaultdict(list)\n",
    "\n",
    "for n_users in [1000, 2000, 5000, 10000]:\n",
    "    for per in [1, 2, 3, 4, 5]:\n",
    "        provide_ACL(n_users)\n",
    "        target = per*(n_users//100)\n",
    "        user_ids = list(map(lambda x:\"user\"+str(x), sample(range(n_users),target)))\n",
    "        \n",
    "        start = time.time()\n",
    "        ACL_data = pickle.load(open(data_owner_ACL_path, \"rb\"))\n",
    "        ACL_data[\"Version\"] += 1\n",
    "        ACL_data[\"Time_stamp\"] = str(datetime.datetime.now())\n",
    "        for user in user_ids:\n",
    "            ACL_data[\"ACL\"][user] = None\n",
    "        \n",
    "        pickle.dump(ACL_data,open(data_owner_ACL_path, \"wb\"))\n",
    "        DO_ACL_hash = hash_message(str(open(data_owner_ACL_path, \"rb\").read()))\n",
    "        \n",
    "        pickle.dump(ACL_data,open(CSP_ACL_path, \"wb\"))\n",
    "        end = time.time()\n",
    "        \n",
    "        if not(verify_hash(str(open(CSP_ACL_path, \"rb\").read()), DO_ACL_hash)):\n",
    "            print(\"Not_verified\")\n",
    "        \n",
    "        results[n_users].append(end-start)\n"
   ]
  },
  {
   "cell_type": "code",
   "execution_count": 7,
   "id": "02ffe392",
   "metadata": {},
   "outputs": [
    {
     "data": {
      "text/html": [
       "<div>\n",
       "<style scoped>\n",
       "    .dataframe tbody tr th:only-of-type {\n",
       "        vertical-align: middle;\n",
       "    }\n",
       "\n",
       "    .dataframe tbody tr th {\n",
       "        vertical-align: top;\n",
       "    }\n",
       "\n",
       "    .dataframe thead th {\n",
       "        text-align: right;\n",
       "    }\n",
       "</style>\n",
       "<table border=\"1\" class=\"dataframe\">\n",
       "  <thead>\n",
       "    <tr style=\"text-align: right;\">\n",
       "      <th></th>\n",
       "      <th>1000</th>\n",
       "      <th>2000</th>\n",
       "      <th>5000</th>\n",
       "      <th>10000</th>\n",
       "    </tr>\n",
       "  </thead>\n",
       "  <tbody>\n",
       "    <tr>\n",
       "      <th>1</th>\n",
       "      <td>0.086436</td>\n",
       "      <td>0.165200</td>\n",
       "      <td>0.678103</td>\n",
       "      <td>1.715952</td>\n",
       "    </tr>\n",
       "    <tr>\n",
       "      <th>2</th>\n",
       "      <td>0.101004</td>\n",
       "      <td>0.252003</td>\n",
       "      <td>1.020973</td>\n",
       "      <td>2.978161</td>\n",
       "    </tr>\n",
       "    <tr>\n",
       "      <th>3</th>\n",
       "      <td>0.170995</td>\n",
       "      <td>0.253249</td>\n",
       "      <td>0.940675</td>\n",
       "      <td>2.683095</td>\n",
       "    </tr>\n",
       "    <tr>\n",
       "      <th>4</th>\n",
       "      <td>0.096989</td>\n",
       "      <td>0.356004</td>\n",
       "      <td>0.783895</td>\n",
       "      <td>1.755255</td>\n",
       "    </tr>\n",
       "    <tr>\n",
       "      <th>5</th>\n",
       "      <td>0.081996</td>\n",
       "      <td>0.362135</td>\n",
       "      <td>0.916753</td>\n",
       "      <td>1.862943</td>\n",
       "    </tr>\n",
       "  </tbody>\n",
       "</table>\n",
       "</div>"
      ],
      "text/plain": [
       "      1000      2000      5000      10000\n",
       "1  0.086436  0.165200  0.678103  1.715952\n",
       "2  0.101004  0.252003  1.020973  2.978161\n",
       "3  0.170995  0.253249  0.940675  2.683095\n",
       "4  0.096989  0.356004  0.783895  1.755255\n",
       "5  0.081996  0.362135  0.916753  1.862943"
      ]
     },
     "execution_count": 7,
     "metadata": {},
     "output_type": "execute_result"
    }
   ],
   "source": [
    "result_info = {key:value for key,value in results.items()}\n",
    "result_data = pd.DataFrame(result_info,index = [1,2,3,4,5])\n",
    "result_data.to_csv(\"user_recocation_data.csv\")\n",
    "result_data.head()"
   ]
  },
  {
   "cell_type": "code",
   "execution_count": 8,
   "id": "c35dbdd0",
   "metadata": {},
   "outputs": [
    {
     "data": {
      "image/png": "[encoded data removed]",
      "text/plain": [
       "<Figure size 640x480 with 1 Axes>"
      ]
     },
     "metadata": {},
     "output_type": "display_data"
    }
   ],
   "source": [
    "import matplotlib.pyplot as plt\n",
    "result_data.plot()\n",
    "plt.grid()"
   ]
  },
  {
   "cell_type": "code",
   "execution_count": null,
   "id": "8612a7cd",
   "metadata": {},
   "outputs": [],
   "source": []
  },
  {
   "cell_type": "code",
   "execution_count": null,
   "id": "677137aa",
   "metadata": {},
   "outputs": [],
   "source": []
  },
  {
   "cell_type": "code",
   "execution_count": null,
   "id": "fb76e862",
   "metadata": {},
   "outputs": [],
   "source": []
  },
  {
   "cell_type": "code",
   "execution_count": null,
   "id": "538b2de6",
   "metadata": {},
   "outputs": [],
   "source": []
  }
 ],
 "metadata": {
  "kernelspec": {
   "display_name": "Python 3 (ipykernel)",
   "language": "python",
   "name": "python3"
  },
  "language_info": {
   "codemirror_mode": {
    "name": "ipython",
    "version": 3
   },
   "file_extension": ".py",
   "mimetype": "text/x-python",
   "name": "python",
   "nbconvert_exporter": "python",
   "pygments_lexer": "ipython3",
   "version": "3.8.8"
  }
 },
 "nbformat": 4,
 "nbformat_minor": 5
}
